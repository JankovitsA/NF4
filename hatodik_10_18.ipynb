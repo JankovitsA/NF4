{
  "nbformat": 4,
  "nbformat_minor": 0,
  "metadata": {
    "colab": {
      "provenance": [],
      "collapsed_sections": [],
      "authorship_tag": "ABX9TyMytkSDpHY16H532t0F4B0M",
      "include_colab_link": true
    },
    "kernelspec": {
      "name": "python3",
      "display_name": "Python 3"
    },
    "language_info": {
      "name": "python"
    }
  },
  "cells": [
    {
      "cell_type": "markdown",
      "metadata": {
        "id": "view-in-github",
        "colab_type": "text"
      },
      "source": [
        "<a href=\"https://colab.research.google.com/github/JankovitsA/NF4/blob/main/hatodik_10_18.ipynb\" target=\"_parent\"><img src=\"https://colab.research.google.com/assets/colab-badge.svg\" alt=\"Open In Colab\"/></a>"
      ]
    },
    {
      "cell_type": "markdown",
      "source": [
        "Pandas practice"
      ],
      "metadata": {
        "id": "hx2f166GyDrw"
      }
    },
    {
      "cell_type": "code",
      "execution_count": 46,
      "metadata": {
        "id": "Oj75UG4xrus3"
      },
      "outputs": [],
      "source": [
        "import pandas as pd\n",
        "import numpy as np\n",
        "import sys\n",
        "import matplotlib.pyplot as plt"
      ]
    },
    {
      "cell_type": "code",
      "source": [
        "print(1)"
      ],
      "metadata": {
        "colab": {
          "base_uri": "https://localhost:8080/"
        },
        "id": "IxqwkZ5pr868",
        "outputId": "290bc84b-c54a-4f93-8d8e-bf3a886e8b9b"
      },
      "execution_count": 3,
      "outputs": [
        {
          "output_type": "stream",
          "name": "stdout",
          "text": [
            "1\n"
          ]
        }
      ]
    },
    {
      "cell_type": "code",
      "source": [
        "a=[]\n",
        "for i in range(3):\n",
        "  a.append(i)"
      ],
      "metadata": {
        "id": "WaOp7qFIvjbK"
      },
      "execution_count": 6,
      "outputs": []
    },
    {
      "cell_type": "code",
      "source": [
        "print(a)"
      ],
      "metadata": {
        "colab": {
          "base_uri": "https://localhost:8080/"
        },
        "id": "0OZUZXsZw_Gs",
        "outputId": "05664062-e992-4d61-fc6b-c18c0fe08c29"
      },
      "execution_count": 7,
      "outputs": [
        {
          "output_type": "stream",
          "name": "stdout",
          "text": [
            "[0, 1, 2]\n"
          ]
        }
      ]
    },
    {
      "cell_type": "code",
      "source": [
        "df_0=pd.DataFrame(data={'a':[],\n",
        "                      'b': [],\n",
        "                      'a+b^2':[]})"
      ],
      "metadata": {
        "id": "AXADAJyWxIT1"
      },
      "execution_count": 8,
      "outputs": []
    },
    {
      "cell_type": "code",
      "source": [
        "df=pd.DataFrame(columns=['num','fib'])\n",
        "print(df)"
      ],
      "metadata": {
        "colab": {
          "base_uri": "https://localhost:8080/"
        },
        "id": "_q83dQG6x_ta",
        "outputId": "22bdf6e6-4ae5-4adb-b772-bc66a1fc66d4"
      },
      "execution_count": 9,
      "outputs": [
        {
          "output_type": "stream",
          "name": "stdout",
          "text": [
            "Empty DataFrame\n",
            "Columns: [num, fib]\n",
            "Index: []\n"
          ]
        }
      ]
    },
    {
      "cell_type": "code",
      "source": [
        "#append, pd.concat, pd.merge, pd.join\n",
        "df=pd.DataFrame(columns=['n','fib'])\n",
        "row1={'n':1.0,'fib':1.0}\n",
        "row2={'n':1.0,'fib':1.0}\n",
        "#df.append({'n':1, 'fib':1},ignore_index=True) #mindkét dataframe-nekk volt indexe, újat csinál\n",
        "new_df=pd.DataFrame([row1,row2])\n",
        "df=pd.concat([df,new_df],axis=0,ignore_index=True)\n",
        "print(df.dtypes) #adattípus\n",
        "#print(df)"
      ],
      "metadata": {
        "colab": {
          "base_uri": "https://localhost:8080/"
        },
        "id": "yi19RpDNydff",
        "outputId": "5e09cbb3-bc13-4985-9b74-e0b3e99a7e54"
      },
      "execution_count": 18,
      "outputs": [
        {
          "output_type": "stream",
          "name": "stdout",
          "text": [
            "n      float64\n",
            "fib    float64\n",
            "dtype: object\n"
          ]
        }
      ]
    },
    {
      "cell_type": "code",
      "source": [
        "df2=pd.DataFrame(range(1,21),columns=['n'] #, index=range[100,200]) #1-20\n",
        "df2['fib']=np.nan\n",
        "\n",
        "#df2.loc[df2['n']==1, 'fib']=1\n",
        "#df2.loc[df2['n']==2, 'fib']=1\n",
        "#print(df2)\n",
        "#sys.exit\n",
        "fib_lag1=0\n",
        "fib_lag2=0\n",
        "\n",
        "for ix, row in df2.iterrows(): #indexet és row-t dob vissza\n",
        "  #print(ix, row)\n",
        "#  df2.loc[ix,'fib']=1\n",
        "#  print(row['n'])\n",
        "  if ix in [0,1]:\n",
        "    df2.loc[ix,'fib']=1\n",
        "  else:\n",
        "    df2.loc[ix,'fib']=df2.loc[ix-1,'fib']+df2.loc[ix-2,'fib']\n",
        "print(df2['fib'])\n",
        "\n"
      ],
      "metadata": {
        "id": "9a9b4AgK0NVk"
      },
      "execution_count": null,
      "outputs": []
    },
    {
      "cell_type": "code",
      "source": [
        "#class, 3 paraméter, array: hány sor, hány oszlop, 3.: array\n",
        "#a=VelSzamok(5,2)\n",
        "#print(a.value) #5x2-es arrayt véletlenszámokkal\n",
        "class VelSzamok():\n",
        "\n",
        "  def __init__(self, n_rows, n_cols):\n",
        "    self.n_rows=n_rows\n",
        "    self.n_cols=n_cols\n",
        "    self.value=np.random.random((self.n_rows,self.n_cols))\n",
        "  def plot_column_averages(self, show=True):\n",
        "    averages=self.value.mean(axis=0)\n",
        " #   print(averages)\n",
        "    plt.plot(averages)\n",
        "    if show:\n",
        "      plt.show()\n",
        "\n",
        "    pass\n",
        "\n",
        "\n",
        "a2=VelSzamok(500,2)\n",
        "#print(a.value) #5x2-es arrayt véletlenszámokkal\n",
        "a2.plot_column_averages()"
      ],
      "metadata": {
        "colab": {
          "base_uri": "https://localhost:8080/",
          "height": 268
        },
        "id": "nmXXH3Dj2M6I",
        "outputId": "a9596adf-2561-428a-8e63-2d73fa9d57fc"
      },
      "execution_count": 58,
      "outputs": [
        {
          "output_type": "display_data",
          "data": {
            "text/plain": [
              "<Figure size 432x288 with 1 Axes>"
            ],
            "image/png": "[encoded data removed]"
          },
          "metadata": {
            "needs_background": "light"
          }
        }
      ]
    },
    {
      "cell_type": "code",
      "source": [],
      "metadata": {
        "id": "xrbPJ6YG8DpB"
      },
      "execution_count": 56,
      "outputs": []
    },
    {
      "cell_type": "code",
      "source": [],
      "metadata": {
        "id": "yKqpM2X181EQ"
      },
      "execution_count": null,
      "outputs": []
    }
  ]
}